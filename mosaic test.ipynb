{
 "cells": [
  {
   "cell_type": "code",
   "execution_count": 101,
   "id": "1b1d1b3d",
   "metadata": {},
   "outputs": [],
   "source": [
    "import requests\n",
    "import tarfile\n",
    "from tqdm import tqdm\n",
    "from pathlib import Path\n",
    "import pickle\n",
    "from PIL import Image\n",
    "import numpy as np"
   ]
  },
  {
   "cell_type": "code",
   "execution_count": 32,
   "id": "4992c558",
   "metadata": {},
   "outputs": [],
   "source": [
    "DATASET_URL = 'https://www.cs.toronto.edu/~kriz/cifar-10-python.tar.gz'\n",
    "\n",
    "LOCAL_ARCHIVE = 'archive.tar.gz'\n",
    "DATA_DIR = Path('data')\n",
    "BATCHES_DIR = DATA_DIR/'cifar-10-batches-py'"
   ]
  },
  {
   "cell_type": "code",
   "execution_count": 24,
   "id": "ae936571",
   "metadata": {},
   "outputs": [
    {
     "name": "stderr",
     "output_type": "stream",
     "text": [
      "326it [00:36,  8.83it/s]                                        \n"
     ]
    }
   ],
   "source": [
    "# Download dataset\n",
    "response = requests.get(DATASET_URL, stream=True)\n",
    "\n",
    "length = int(response.headers['Content-length'])\n",
    "\n",
    "chunk_size = 512*1024\n",
    "\n",
    "\n",
    "with open(LOCAL_ARCHIVE, 'wb') as f:\n",
    "    response\n",
    "    for chunk in tqdm(response.iter_content(chunk_size=chunk_size), total=length/chunk_size):\n",
    "        f.write(chunk)\n"
   ]
  },
  {
   "cell_type": "code",
   "execution_count": 33,
   "id": "4daf1920",
   "metadata": {},
   "outputs": [],
   "source": [
    "# Unpack dataset\n",
    "with tarfile.open(LOCAL_ARCHIVE) as t:\n",
    "    t.extractall(DATA_DIR)"
   ]
  },
  {
   "cell_type": "code",
   "execution_count": 122,
   "id": "9eb03521",
   "metadata": {},
   "outputs": [],
   "source": [
    "batch_file = BATCHES_DIR/'data_batch_1'\n",
    "\n",
    "with batch_file.open('rb') as f:\n",
    "    dataset = pickle.load(f, encoding='bytes')"
   ]
  },
  {
   "cell_type": "code",
   "execution_count": 123,
   "id": "0f851b96",
   "metadata": {},
   "outputs": [],
   "source": [
    "images = dataset[b'data']\n",
    "images = images.reshape(10000, 32, 32, 3, order='F')"
   ]
  },
  {
   "cell_type": "code",
   "execution_count": 124,
   "id": "3303b2a1",
   "metadata": {},
   "outputs": [
    {
     "data": {
      "image/png": "[encoded data removed]",
      "text/plain": [
       "<PIL.Image.Image image mode=RGB size=32x32 at 0x7F916E12DDC0>"
      ]
     },
     "metadata": {},
     "output_type": "display_data"
    },
    {
     "data": {
      "image/png": "[encoded data removed]",
      "text/plain": [
       "<PIL.Image.Image image mode=RGB size=32x32 at 0x7F916E1278E0>"
      ]
     },
     "metadata": {},
     "output_type": "display_data"
    },
    {
     "data": {
      "image/png": "[encoded data removed]",
      "text/plain": [
       "<PIL.Image.Image image mode=RGB size=32x32 at 0x7F916E127E50>"
      ]
     },
     "metadata": {},
     "output_type": "display_data"
    },
    {
     "data": {
      "image/png": "[encoded data removed]",
      "text/plain": [
       "<PIL.Image.Image image mode=RGB size=32x32 at 0x7F916E1278E0>"
      ]
     },
     "metadata": {},
     "output_type": "display_data"
    },
    {
     "data": {
      "image/png": "[encoded data removed]",
      "text/plain": [
       "<PIL.Image.Image image mode=RGB size=32x32 at 0x7F916E1278E0>"
      ]
     },
     "metadata": {},
     "output_type": "display_data"
    },
    {
     "data": {
      "image/png": "[encoded data removed]",
      "text/plain": [
       "<PIL.Image.Image image mode=RGB size=32x32 at 0x7F916E1278E0>"
      ]
     },
     "metadata": {},
     "output_type": "display_data"
    },
    {
     "data": {
      "image/png": "[encoded data removed]",
      "text/plain": [
       "<PIL.Image.Image image mode=RGB size=32x32 at 0x7F916E127E50>"
      ]
     },
     "metadata": {},
     "output_type": "display_data"
    },
    {
     "data": {
      "image/png": "[encoded data removed]",
      "text/plain": [
       "<PIL.Image.Image image mode=RGB size=32x32 at 0x7F916E1278E0>"
      ]
     },
     "metadata": {},
     "output_type": "display_data"
    },
    {
     "data": {
      "image/png": "[encoded data removed]",
      "text/plain": [
       "<PIL.Image.Image image mode=RGB size=32x32 at 0x7F916E1278E0>"
      ]
     },
     "metadata": {},
     "output_type": "display_data"
    },
    {
     "data": {
      "image/png": "[encoded data removed]",
      "text/plain": [
       "<PIL.Image.Image image mode=RGB size=32x32 at 0x7F916E1278E0>"
      ]
     },
     "metadata": {},
     "output_type": "display_data"
    }
   ],
   "source": [
    "for im in images[:10]:\n",
    "    display(Image.fromarray(im, 'RGB'))"
   ]
  },
  {
   "cell_type": "code",
   "execution_count": 125,
   "id": "3b0d7a19",
   "metadata": {},
   "outputs": [
    {
     "data": {
      "text/plain": [
       "array([[141, 105,  64],\n",
       "       [130, 130, 130],\n",
       "       [133, 135, 132],\n",
       "       ...,\n",
       "       [109, 106,  86],\n",
       "       [110, 128, 126],\n",
       "       [137, 139,  94]])"
      ]
     },
     "execution_count": 125,
     "metadata": {},
     "output_type": "execute_result"
    }
   ],
   "source": [
    "# Calculate mean values\n",
    "\n",
    "mean_color = images.mean(axis=(1,2), dtype='int')\n",
    "mean_color"
   ]
  },
  {
   "cell_type": "code",
   "execution_count": 126,
   "id": "45e6b347",
   "metadata": {},
   "outputs": [
    {
     "data": {
      "text/plain": [
       "array([[[141, 105,  64]]])"
      ]
     },
     "metadata": {},
     "output_type": "display_data"
    },
    {
     "data": {
      "image/png": "[encoded data removed]",
      "text/plain": [
       "<PIL.Image.Image image mode=RGB size=32x32 at 0x7F916E2C22E0>"
      ]
     },
     "metadata": {},
     "output_type": "display_data"
    },
    {
     "data": {
      "text/plain": [
       "array([[[130, 130, 130]]])"
      ]
     },
     "metadata": {},
     "output_type": "display_data"
    },
    {
     "data": {
      "image/png": "[encoded data removed]",
      "text/plain": [
       "<PIL.Image.Image image mode=RGB size=32x32 at 0x7F916DFF26D0>"
      ]
     },
     "metadata": {},
     "output_type": "display_data"
    },
    {
     "data": {
      "text/plain": [
       "array([[[133, 135, 132]]])"
      ]
     },
     "metadata": {},
     "output_type": "display_data"
    },
    {
     "data": {
      "image/png": "[encoded data removed]",
      "text/plain": [
       "<PIL.Image.Image image mode=RGB size=32x32 at 0x7F916DFF26D0>"
      ]
     },
     "metadata": {},
     "output_type": "display_data"
    },
    {
     "data": {
      "text/plain": [
       "array([[[99, 83, 57]]])"
      ]
     },
     "metadata": {},
     "output_type": "display_data"
    },
    {
     "data": {
      "image/png": "[encoded data removed]",
      "text/plain": [
       "<PIL.Image.Image image mode=RGB size=32x32 at 0x7F916E127490>"
      ]
     },
     "metadata": {},
     "output_type": "display_data"
    },
    {
     "data": {
      "text/plain": [
       "array([[[ 92, 102, 116]]])"
      ]
     },
     "metadata": {},
     "output_type": "display_data"
    },
    {
     "data": {
      "image/png": "[encoded data removed]",
      "text/plain": [
       "<PIL.Image.Image image mode=RGB size=32x32 at 0x7F916DE13F70>"
      ]
     },
     "metadata": {},
     "output_type": "display_data"
    },
    {
     "data": {
      "text/plain": [
       "array([[[142,  70,  57]]])"
      ]
     },
     "metadata": {},
     "output_type": "display_data"
    },
    {
     "data": {
      "image/png": "[encoded data removed]",
      "text/plain": [
       "<PIL.Image.Image image mode=RGB size=32x32 at 0x7F916E127490>"
      ]
     },
     "metadata": {},
     "output_type": "display_data"
    },
    {
     "data": {
      "text/plain": [
       "array([[[120, 152,  85]]])"
      ]
     },
     "metadata": {},
     "output_type": "display_data"
    },
    {
     "data": {
      "image/png": "[encoded data removed]",
      "text/plain": [
       "<PIL.Image.Image image mode=RGB size=32x32 at 0x7F916DE13F70>"
      ]
     },
     "metadata": {},
     "output_type": "display_data"
    },
    {
     "data": {
      "text/plain": [
       "array([[[132, 134,  97]]])"
      ]
     },
     "metadata": {},
     "output_type": "display_data"
    },
    {
     "data": {
      "image/png": "[encoded data removed]",
      "text/plain": [
       "<PIL.Image.Image image mode=RGB size=32x32 at 0x7F916E127E20>"
      ]
     },
     "metadata": {},
     "output_type": "display_data"
    },
    {
     "data": {
      "text/plain": [
       "array([[[109, 156, 188]]])"
      ]
     },
     "metadata": {},
     "output_type": "display_data"
    },
    {
     "data": {
      "image/png": "[encoded data removed]",
      "text/plain": [
       "<PIL.Image.Image image mode=RGB size=32x32 at 0x7F916E2C22E0>"
      ]
     },
     "metadata": {},
     "output_type": "display_data"
    },
    {
     "data": {
      "text/plain": [
       "array([[[78, 71, 61]]])"
      ]
     },
     "metadata": {},
     "output_type": "display_data"
    },
    {
     "data": {
      "image/png": "[encoded data removed]",
      "text/plain": [
       "<PIL.Image.Image image mode=RGB size=32x32 at 0x7F916DFF22E0>"
      ]
     },
     "metadata": {},
     "output_type": "display_data"
    }
   ],
   "source": [
    "for m in mean_color[:10]:\n",
    "    swatch = m.reshape((1,1,3))\n",
    "    display(swatch)\n",
    "    display(Image.fromarray(swatch, 'RGB').resize((32, 32)))"
   ]
  },
  {
   "cell_type": "code",
   "execution_count": 107,
   "id": "9d54d602",
   "metadata": {},
   "outputs": [
    {
     "ename": "SyntaxError",
     "evalue": "invalid syntax (<ipython-input-107-c153bab87f08>, line 1)",
     "output_type": "error",
     "traceback": [
      "\u001b[0;36m  File \u001b[0;32m\"<ipython-input-107-c153bab87f08>\"\u001b[0;36m, line \u001b[0;32m1\u001b[0m\n\u001b[0;31m    Image.\u001b[0m\n\u001b[0m          ^\u001b[0m\n\u001b[0;31mSyntaxError\u001b[0m\u001b[0;31m:\u001b[0m invalid syntax\n"
     ]
    }
   ],
   "source": []
  },
  {
   "cell_type": "code",
   "execution_count": null,
   "id": "e8af4070",
   "metadata": {},
   "outputs": [],
   "source": []
  }
 ],
 "metadata": {
  "kernelspec": {
   "display_name": "Python 3",
   "language": "python",
   "name": "python3"
  },
  "language_info": {
   "codemirror_mode": {
    "name": "ipython",
    "version": 3
   },
   "file_extension": ".py",
   "mimetype": "text/x-python",
   "name": "python",
   "nbconvert_exporter": "python",
   "pygments_lexer": "ipython3",
   "version": "3.8.0"
  }
 },
 "nbformat": 4,
 "nbformat_minor": 5
}
